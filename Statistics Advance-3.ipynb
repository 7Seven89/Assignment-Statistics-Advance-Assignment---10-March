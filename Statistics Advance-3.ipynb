{
 "cells": [
  {
   "cell_type": "markdown",
   "id": "790a9010-8a81-4eaa-a136-7c6b7fcd1313",
   "metadata": {},
   "source": [
    "### Q1: What is Estimation Statistics? Explain point estimate and interval estimate.\n",
    "\n",
    "**Estimation Statistics**:\n",
    "- Estimation statistics involve using sample data to estimate population parameters. The goal is to infer characteristics of a population based on a sample.\n",
    "\n",
    "**Point Estimate**:\n",
    "- A point estimate is a single value used to estimate a population parameter. For example, the sample mean is a point estimate of the population mean.\n",
    "\n",
    "**Interval Estimate**:\n",
    "- An interval estimate provides a range of values within which the population parameter is expected to lie, with a certain level of confidence. For example, a 95% confidence interval for the mean provides a range where we expect the true population mean to fall 95% of the time."
   ]
  },
  {
   "cell_type": "markdown",
   "id": "088b3de3-516b-4014-bb98-864729dcc216",
   "metadata": {},
   "source": []
  },
  {
   "cell_type": "markdown",
   "id": "1abb65fc-56a0-4a13-be78-1e90fd4f73b2",
   "metadata": {},
   "source": [
    "### Q2: Write a Python function to estimate the population mean using a sample mean and standard deviation.\n",
    "\n",
    "```python\n",
    "def estimate_population_mean(sample_mean, sample_std_dev, confidence_level=0.95, sample_size=30):\n",
    "    import scipy.stats as stats\n",
    "    import math\n",
    "    \n",
    "    # Calculate the critical value\n",
    "    alpha = 1 - confidence_level\n",
    "    critical_value = stats.norm.ppf(1 - alpha / 2)\n",
    "    \n",
    "    # Calculate the margin of error\n",
    "    margin_of_error = critical_value * (sample_std_dev / math.sqrt(sample_size))\n",
    "    \n",
    "    # Calculate the confidence interval\n",
    "    lower_bound = sample_mean - margin_of_error\n",
    "    upper_bound = sample_mean + margin_of_error\n",
    "    \n",
    "    return lower_bound, upper_bound\n",
    "\n",
    "# Example usage:\n",
    "sample_mean = 50\n",
    "sample_std_dev = 10\n",
    "confidence_interval = estimate_population_mean(sample_mean, sample_std_dev)\n",
    "print(f\"95% Confidence Interval for the Population Mean: {confidence_interval}\")"
   ]
  },
  {
   "cell_type": "markdown",
   "id": "00a268bf-1c45-4d33-966e-13233a5ff039",
   "metadata": {},
   "source": []
  },
  {
   "cell_type": "markdown",
   "id": "e8d262e6-a14c-48a4-98d7-bf3274c7acf7",
   "metadata": {},
   "source": [
    "### Q3: What is Hypothesis Testing? Why is it used? State the importance of Hypothesis Testing.\n",
    "\n",
    "**Hypothesis Testing**:\n",
    "- Hypothesis testing is a statistical method used to make inferences or draw conclusions about a population based on a sample of data. It involves formulating and testing hypotheses to determine if there is enough evidence to support a specific claim or theory.\n",
    "\n",
    "**Why It Is Used**:\n",
    "- To evaluate claims or assumptions about a population.\n",
    "- To make decisions based on sample data.\n",
    "- To determine if observed effects are statistically significant.\n",
    "\n",
    "**Importance**:\n",
    "- Provides a systematic method to make data-driven decisions.\n",
    "- Helps in assessing the validity of scientific and practical claims.\n",
    "- Ensures that conclusions are based on statistical evidence rather than chance."
   ]
  },
  {
   "cell_type": "markdown",
   "id": "7834b971-e2ec-4f31-9cd3-df03073f61de",
   "metadata": {},
   "source": []
  },
  {
   "cell_type": "markdown",
   "id": "d98b05d6-4deb-49aa-a76a-d0603a4e515f",
   "metadata": {},
   "source": [
    "### Q4: Create a hypothesis that states whether the average weight of male college students is greater than the average weight of female college students.\n",
    "\n",
    "**Null Hypothesis (H0)**:\n",
    "- \\( H_0: \\mu_{m} \\leq \\mu_{f} \\) (The average weight of male college students is less than or equal to the average weight of female college students.)\n",
    "\n",
    "**Alternative Hypothesis (H1)**:\n",
    "- \\( H_1: \\mu_{m} > \\mu_{f} \\) (The average weight of male college students is greater than the average weight of female college students.)"
   ]
  },
  {
   "cell_type": "markdown",
   "id": "5a4b33c1-3c04-4b24-941f-62dd519d3efb",
   "metadata": {},
   "source": []
  },
  {
   "cell_type": "markdown",
   "id": "5fc6dce8-b2aa-475c-91c3-4a6b50fe45b4",
   "metadata": {},
   "source": [
    "### Q5: Write a Python script to conduct a hypothesis test on the difference between two population means, given a sample from each population.\n",
    "\n",
    "```python\n",
    "import scipy.stats as stats\n",
    "\n",
    "# Sample data\n",
    "mean1 = 70  # Mean of sample 1\n",
    "std1 = 10   # Standard deviation of sample 1\n",
    "n1 = 30     # Sample size of sample 1\n",
    "\n",
    "mean2 = 65  # Mean of sample 2\n",
    "std2 = 12   # Standard deviation of sample 2\n",
    "n2 = 40     # Sample size of sample 2\n",
    "\n",
    "# Perform two-sample t-test\n",
    "t_statistic, p_value = stats.ttest_ind_from_stats(mean1, std1, n1, mean2, std2, n2)\n",
    "\n",
    "print(f\"T-statistic: {t_statistic}\")\n",
    "print(f\"P-value: {p_value}\")"
   ]
  },
  {
   "cell_type": "markdown",
   "id": "0a912d0b-a7ee-45de-b372-f3ed44eee797",
   "metadata": {},
   "source": []
  },
  {
   "cell_type": "markdown",
   "id": "cc8a72f2-c1a8-4405-b319-6209ab9759b3",
   "metadata": {},
   "source": [
    "### Q6: What is a null and alternative hypothesis? Give some examples.\n",
    "\n",
    "**Null Hypothesis (\\(H_0\\))**:\n",
    "- The null hypothesis is a statement that there is no effect or no difference. It serves as the default assumption that any observed difference is due to random chance.\n",
    "- **Example**: A drug has no effect on blood pressure; \\( H_0: \\mu = 0 \\).\n",
    "\n",
    "**Alternative Hypothesis (\\(H_A\\) or \\(H_1\\))**:\n",
    "- The alternative hypothesis is a statement that indicates the presence of an effect or a difference. It is what you want to prove or find evidence for.\n",
    "- **Example**: A drug does affect blood pressure; \\( H_A: \\mu \\neq 0 \\)."
   ]
  },
  {
   "cell_type": "markdown",
   "id": "b1d01380-3380-4116-89ea-f9373027cc12",
   "metadata": {},
   "source": []
  },
  {
   "cell_type": "markdown",
   "id": "208b514a-238b-413b-a501-e00510e7feaf",
   "metadata": {},
   "source": [
    "### Q7: Write down the steps involved in hypothesis testing.\n",
    "\n",
    "1. **State the Hypotheses**:\n",
    "   - Formulate the null hypothesis (\\(H_0\\)) and the alternative hypothesis (\\(H_A\\)).\n",
    "\n",
    "2. **Choose the Significance Level**:\n",
    "   - Decide on the significance level (\\(\\alpha\\)), commonly 0.05 or 0.01.\n",
    "\n",
    "3. **Select the Appropriate Test**:\n",
    "   - Choose a statistical test based on the type of data and the hypotheses (e.g., t-test, z-test).\n",
    "\n",
    "4. **Collect Data**:\n",
    "   - Gather the sample data required for the test.\n",
    "\n",
    "5. **Calculate the Test Statistic**:\n",
    "   - Compute the test statistic using the sample data.\n",
    "\n",
    "6. **Determine the p-value or Critical Value**:\n",
    "   - Compare the test statistic to the critical value or use the p-value to assess significance.\n",
    "\n",
    "7. **Make a Decision**:\n",
    "   - Reject the null hypothesis if the p-value is less than \\(\\alpha\\) or if the test statistic exceeds the critical value. Otherwise, fail to reject the null hypothesis.\n",
    "\n",
    "8. **Draw a Conclusion**:\n",
    "   - Summarize the findings and interpret the results in the context of the research question."
   ]
  },
  {
   "cell_type": "markdown",
   "id": "8352ba79-05fc-4d8a-8299-cd8b2c1ce85c",
   "metadata": {},
   "source": []
  },
  {
   "cell_type": "markdown",
   "id": "d420c322-aede-4b83-9720-90d9a641bb2a",
   "metadata": {},
   "source": [
    "### Q8: Define p-value and explain its significance in hypothesis testing.\n",
    "\n",
    "**P-value**:\n",
    "- The p-value is the probability of observing the test results, or something more extreme, under the null hypothesis. It quantifies the evidence against the null hypothesis.\n",
    "\n",
    "**Significance**:\n",
    "- A small p-value (typically less than the chosen significance level \\(\\alpha\\)) indicates strong evidence against the null hypothesis, leading to its rejection.\n",
    "- A large p-value suggests weak evidence against the null hypothesis, leading to failure to reject it."
   ]
  },
  {
   "cell_type": "markdown",
   "id": "fffc6f3e-7c5c-4056-aed7-c980ea08cc29",
   "metadata": {},
   "source": []
  },
  {
   "cell_type": "markdown",
   "id": "47dc7ea8-b014-4e06-adf0-8059d335bee8",
   "metadata": {},
   "source": [
    "### Q9: Generate a Student's t-distribution plot using Python's matplotlib library, with the degrees of freedom parameter set to 10.\n",
    "\n",
    "```python\n",
    "import numpy as np\n",
    "import matplotlib.pyplot as plt\n",
    "from scipy.stats import t\n",
    "\n",
    "# Parameters\n",
    "df = 10  # degrees of freedom\n",
    "x = np.linspace(-5, 5, 1000)\n",
    "y = t.pdf(x, df)\n",
    "\n",
    "# Plot\n",
    "plt.figure(figsize=(8, 6))\n",
    "plt.plot(x, y, label=f't-distribution df={df}')\n",
    "plt.title(\"Student's t-Distribution\")\n",
    "plt.xlabel(\"x\")\n",
    "plt.ylabel(\"Probability Density\")\n",
    "plt.legend()\n",
    "plt.grid(True)\n",
    "plt.show()"
   ]
  },
  {
   "cell_type": "markdown",
   "id": "d0d38930-d14a-49a0-a812-53035f3b1df1",
   "metadata": {},
   "source": []
  },
  {
   "cell_type": "markdown",
   "id": "3de691c1-062e-4aad-aa05-abb4ef0353ec",
   "metadata": {},
   "source": [
    "### Q10: Write a Python program to calculate the two-sample t-test for independent samples, given two random samples of equal size and a null hypothesis that the population means are equal.\n",
    "\n",
    "```python\n",
    "import numpy as np\n",
    "from scipy import stats\n",
    "\n",
    "# Sample data\n",
    "sample1 = np.array([/* data */])\n",
    "sample2 = np.array([/* data */])\n",
    "\n",
    "# Perform the two-sample t-test\n",
    "t_statistic, p_value = stats.ttest_ind(sample1, sample2)\n",
    "\n",
    "print(f\"T-statistic: {t_statistic}\")\n",
    "print(f\"P-value: {p_value}\")\n"
   ]
  },
  {
   "cell_type": "markdown",
   "id": "2d3ad49a-cbad-4249-b18e-4dcc0c5e081f",
   "metadata": {},
   "source": []
  },
  {
   "cell_type": "markdown",
   "id": "2ff264c0-7522-4ce4-ae90-b978b23ba535",
   "metadata": {},
   "source": [
    "### Q11: What is Student’s t distribution? When to use the t-Distribution.\n",
    "\n",
    "**Student’s t Distribution**:\n",
    "- The Student’s t distribution is a family of distributions that are similar in shape to the standard normal distribution but have heavier tails. It is used when the sample size is small and the population standard deviation is unknown.\n",
    "\n",
    "**When to Use**:\n",
    "- Use the t-distribution when:\n",
    "  - Sample size is small (typically \\( n < 30 \\)).\n",
    "  - Population standard deviation is unknown.\n",
    "  - You are estimating the mean of a normally distributed population."
   ]
  },
  {
   "cell_type": "markdown",
   "id": "d4dc15d7-ed37-4f4a-a562-4f9ea9e53953",
   "metadata": {},
   "source": []
  },
  {
   "cell_type": "markdown",
   "id": "8c528d67-2f22-4f71-8295-caa566aac9e7",
   "metadata": {},
   "source": [
    "### Q12: What is t-statistic? State the formula for t-statistic.\n",
    "\n",
    "**t-Statistic**:\n",
    "- The t-statistic is a standardized value that is used in hypothesis testing to determine how far the sample mean deviates from the null hypothesis mean in units of the standard error.\n",
    "\n",
    "**Formula**:\n",
    "\\[\n",
    "t = \\frac{\\bar{X} - \\mu}{\\frac{s}{\\sqrt{n}}}\n",
    "\\]\n",
    "where:\n",
    "- \\( \\bar{X} \\) is the sample mean,\n",
    "- \\( \\mu \\) is the population mean under the null hypothesis,\n",
    "- \\( s \\) is the sample standard deviation,\n",
    "- \\( n \\) is the sample size."
   ]
  },
  {
   "cell_type": "markdown",
   "id": "138fb406-1684-40bc-a8cd-d7ed95e204a5",
   "metadata": {},
   "source": []
  },
  {
   "cell_type": "markdown",
   "id": "987099ed-4276-4ca1-872c-faae7718cecf",
   "metadata": {},
   "source": [
    "### Q13: A coffee shop owner wants to estimate the average daily revenue for their shop. They take a random sample of 50 days and find the sample mean revenue to be $500 with a standard deviation of $50. Estimate the population mean revenue with a 95% confidence interval.\n",
    "\n",
    "**Confidence Interval Calculation**:\n",
    "1. **Sample Mean (\\(\\bar{X}\\))**: $500\n",
    "2. **Sample Standard Deviation (\\(s\\))**: $50\n",
    "3. **Sample Size (\\(n\\))**: 50\n",
    "4. **Degrees of Freedom (\\(df\\))**: \\( n - 1 = 49 \\)\n",
    "5. **Critical Value (\\(t_{\\alpha/2}\\))**: For 95% confidence and 49 degrees of freedom, \\( t_{\\alpha/2} \\approx 2.0096 \\) (from t-distribution table).\n",
    "\n",
    "**Confidence Interval**:\n",
    "\\[\n",
    "\\text{CI} = \\bar{X} \\pm t_{\\alpha/2} \\cdot \\frac{s}{\\sqrt{n}}\n",
    "\\]\n",
    "\\[\n",
    "\\text{CI} = 500 \\pm 2.0096 \\cdot \\frac{50}{\\sqrt{50}}\n",
    "\\]\n",
    "\\[\n",
    "\\text{CI} = 500 \\pm 2.0096 \\cdot 7.071\n",
    "\\]\n",
    "\\[\n",
    "\\text{CI} = 500 \\pm 14.2\n",
    "\\]\n",
    "\n",
    "**95% Confidence Interval**: \\([485.8, 514.2]\\)"
   ]
  },
  {
   "cell_type": "markdown",
   "id": "ec3af05f-f241-4654-ae0e-18e6739bbb5d",
   "metadata": {},
   "source": []
  },
  {
   "cell_type": "markdown",
   "id": "c44c98c4-8b19-43ea-a757-a4efa7243c68",
   "metadata": {},
   "source": [
    "### Q14: A researcher hypothesizes that a new drug will decrease blood pressure by 10 mmHg. They conduct a clinical trial with 100 patients and find that the sample mean decrease in blood pressure is 8 mmHg with a standard deviation of 3 mmHg. Test the hypothesis with a significance level of 0.05.\n",
    "\n",
    "**Hypothesis Testing**:\n",
    "- **Null Hypothesis (\\(H_0\\))**: \\(\\mu = 10\\) mmHg\n",
    "- **Alternative Hypothesis (\\(H_1\\))**: \\(\\mu \\neq 10\\) mmHg\n",
    "\n",
    "1. **Sample Mean (\\(\\bar{X}\\))**: 8 mmHg\n",
    "2. **Sample Standard Deviation (\\(s\\))**: 3 mmHg\n",
    "3. **Sample Size (\\(n\\))**: 100\n",
    "\n",
    "**t-Statistic Calculation**:\n",
    "\\[\n",
    "t = \\frac{\\bar{X} - \\mu}{\\frac{s}{\\sqrt{n}}} = \\frac{8 - 10}{\\frac{3}{\\sqrt{100}}} = \\frac{-2}{0.3} = -6.67\n",
    "\\]\n",
    "\n",
    "**Critical Value**: For a two-tailed test at \\(\\alpha = 0.05\\) with 99 degrees of freedom, the critical value \\( t_{\\alpha/2} \\approx 1.984 \\).\n",
    "\n",
    "**Decision**:\n",
    "- Since \\( |t| = 6.67 \\) is greater than 1.984, we reject the null hypothesis.\n",
    "\n",
    "**Conclusion**: There is sufficient evidence to conclude that the new drug has a significant effect on decreasing blood pressure."
   ]
  },
  {
   "cell_type": "markdown",
   "id": "bd1d9688-3650-40d6-9fae-448fcd09f791",
   "metadata": {},
   "source": []
  },
  {
   "cell_type": "markdown",
   "id": "e70ac610-7f05-4d42-976c-d29247e4cf72",
   "metadata": {},
   "source": [
    "### Q15: An electronics company produces a certain type of product with a mean weight of 5 pounds and a standard deviation of 0.5 pounds. A random sample of 25 products is taken, and the sample mean weight is found to be 4.8 pounds. Test the hypothesis that the true mean weight of the products is less than 5 pounds with a significance level of 0.01.\n",
    "\n",
    "**Hypothesis Testing**:\n",
    "- **Null Hypothesis (\\(H_0\\))**: \\(\\mu = 5\\) pounds\n",
    "- **Alternative Hypothesis (\\(H_1\\))**: \\(\\mu < 5\\) pounds\n",
    "\n",
    "1. **Sample Mean (\\(\\bar{X}\\))**: 4.8 pounds\n",
    "2. **Population Mean (\\(\\mu\\))**: 5 pounds\n",
    "3. **Population Standard Deviation (\\(\\sigma\\))**: 0.5 pounds\n",
    "4. **Sample Size (\\(n\\))**: 25\n",
    "\n",
    "**z-Statistic Calculation**:\n",
    "\\[\n",
    "z = \\frac{\\bar{X} - \\mu}{\\frac{\\sigma}{\\sqrt{n}}} = \\frac{4.8 - 5}{\\frac{0.5}{\\sqrt{25}}} = \\frac{-0.2}{0.1} = -2\n",
    "\\]\n",
    "\n",
    "**Critical Value**: For a one-tailed test at \\(\\alpha = 0.01\\), the critical value \\( z_{\\alpha} \\approx -2.33 \\).\n",
    "\n",
    "**Decision**:\n",
    "- Since \\( z = -2 \\) is greater than -2.33, we do not reject the null hypothesis.\n",
    "\n",
    "**Conclusion**: There is not enough evidence to conclude that the true mean weight is less than 5 pounds."
   ]
  },
  {
   "cell_type": "markdown",
   "id": "25d4822d-2485-416f-a581-ff8b25a9db87",
   "metadata": {},
   "source": []
  },
  {
   "cell_type": "markdown",
   "id": "a6870ccb-89e8-49db-b7ff-d04f65410fc3",
   "metadata": {},
   "source": [
    "### Q16: Two groups of students are given different study materials to prepare for a test. The first group (\\(n_1 = 30\\)) has a mean score of 80 with a standard deviation of 10, and the second group (\\(n_2 = 40\\)) has a mean score of 75 with a standard deviation of 8. Test the hypothesis that the population means for the two groups are equal with a significance level of 0.01.\n",
    "\n",
    "**Hypothesis Testing**:\n",
    "- **Null Hypothesis (\\(H_0\\))**: \\(\\mu_1 = \\mu_2\\)\n",
    "- **Alternative Hypothesis (\\(H_1\\))**: \\(\\mu_1 \\neq \\mu_2\\)\n",
    "\n",
    "1. **Group 1**: Mean = 80, Standard Deviation = 10, \\(n_1 = 30\\)\n",
    "2. **Group 2**: Mean = 75, Standard Deviation = 8, \\(n_2 = 40\\)\n",
    "\n",
    "**t-Statistic Calculation**:\n",
    "\\[\n",
    "t = \\frac{\\bar{X}_1 - \\bar{X}_2}{\\sqrt{\\frac{s_1^2}{n_1} + \\frac{s_2^2}{n_2}}} = \\frac{80 - 75}{\\sqrt{\\frac{10^2}{30} + \\frac{8^2}{40}}}\n",
    "\\]\n",
    "\\[\n",
    "t = \\frac{5}{\\sqrt{3.33 + 1.6}} = \\frac{5}{2.08} = 2.40\n",
    "\\]\n",
    "\n",
    "**Degrees of Freedom**: Using approximate degrees of freedom for unequal variances:\n",
    "\\[\n",
    "df \\approx \\frac{\\left(\\frac{s_1^2}{n_1} + \\frac{s_2^2}{n_2}\\right)^2}{\\frac{\\left(\\frac{s_1^2}{n_1}\\right)^2}{n_1 - 1} + \\frac{\\left(\\frac{s_2^2}{n_2}\\right)^2}{n_2 - 1}}\n",
    "\\]\n",
    "\\[\n",
    "df \\approx 65\n",
    "\\]\n",
    "\n",
    "**Critical Value**: For a two-tailed test at \\(\\alpha = 0.01\\) with \\( df \\approx 65 \\), the critical value \\( t_{\\alpha/2} \\approx \\pm 2.65 \\).\n",
    "\n",
    "**Decision**:\n",
    "- Since \\( |t| = 2.40 \\) is less than 2.65, we do not reject the null hypothesis.\n",
    "\n",
    "**Conclusion**: There is not enough evidence to conclude that the population means for the two groups are different."
   ]
  },
  {
   "cell_type": "markdown",
   "id": "b5beacf9-d54a-43d7-9621-d464ecd471b3",
   "metadata": {},
   "source": []
  },
  {
   "cell_type": "markdown",
   "id": "63b82dd8-9c63-4ca0-8edc-06dca1a29b72",
   "metadata": {},
   "source": [
    "### Q17: A marketing company wants to estimate the average number of ads watched by viewers during a TV program. They take a random sample of 50 viewers and find that the sample mean is 4 with a standard deviation of 1.5. Estimate the population mean with a 99% confidence interval.\n",
    "\n",
    "**Confidence Interval Calculation**:\n",
    "1. **Sample Mean (\\(\\bar{X}\\))**: 4\n",
    "2. **Sample Standard Deviation (\\(s\\))**: 1.5\n",
    "3. **Sample Size (\\(n\\))**: 50\n",
    "4. **Degrees of Freedom (\\(df\\))**: \\( n - 1 = 49 \\)\n",
    "5. **Critical Value (\\(t_{\\alpha/2}\\))**: For 99% confidence and 49 degrees of freedom, \\( t_{\\alpha/2} \\approx 2.684 \\) (from t-distribution table).\n",
    "\n",
    "**Confidence Interval**:\n",
    "\\[\n",
    "\\text{CI} = \\bar{X} \\pm t_{\\alpha/2} \\cdot \\frac{s}{\\sqrt{n}}\n",
    "\\]\n",
    "\\[\n",
    "\\text{CI} = 4 \\pm 2.684 \\cdot \\frac{1.5}{\\sqrt{50}}\n",
    "\\]\n",
    "\\[\n",
    "\\text{CI} = 4 \\pm 2.684 \\cdot 0.212\n",
    "\\]\n",
    "\\[\n",
    "\\text{CI} = 4 \\pm 0.569\n",
    "\\]\n",
    "\n",
    "**99% Confidence Interval**: \\([3.431, 4.569]\\)"
   ]
  },
  {
   "cell_type": "markdown",
   "id": "8d9aa151-55b8-4579-bbaa-7d6c7753c850",
   "metadata": {},
   "source": []
  }
 ],
 "metadata": {
  "kernelspec": {
   "display_name": "Python 3 (ipykernel)",
   "language": "python",
   "name": "python3"
  },
  "language_info": {
   "codemirror_mode": {
    "name": "ipython",
    "version": 3
   },
   "file_extension": ".py",
   "mimetype": "text/x-python",
   "name": "python",
   "nbconvert_exporter": "python",
   "pygments_lexer": "ipython3",
   "version": "3.12.5"
  }
 },
 "nbformat": 4,
 "nbformat_minor": 5
}
